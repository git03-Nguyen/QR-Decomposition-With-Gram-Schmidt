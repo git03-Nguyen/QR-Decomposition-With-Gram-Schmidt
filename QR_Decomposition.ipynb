{
 "cells": [
  {
   "cell_type": "markdown",
   "id": "a474e6cd",
   "metadata": {},
   "source": [
    "### Họ và tên: Nguyễn Đình Ánh\n",
    "### MSSV: 21120171\n",
    "### Lớp: 21_2\n",
    "---\n",
    "# <span style=\"color:red\">Toán Ứng dụng & Thống kê - Đồ án 3: Gram-Schmidt</span>\n",
    ">Cho $A$ là ma trận có thể phân rã $QR$. Sinh viên viết chương trình in ra ma trận $Q$ và $R$, biết rằng $A = QR$.<br>\n",
    "**Lưu ý**: sinh viên phải sử dụng thuật toán Gram – Schmidt đã được hướng dẫn trong phần bài tập. Sinh viên không được dùng các hàm có sẵn của các thư viện để phân rã $QR$.\n",
    ">##### Mở rộng:\n",
    ">- Tìm hiểu hàm/ phương thức tương ứng của các thư viện và thực hiện nó, so sánh kết quả.\n",
    ">- Tìm hiểu và trình bày ứng dụng của $QR$ decomposition.\n",
    "---"
   ]
  },
  {
   "cell_type": "markdown",
   "id": "f582aa5f",
   "metadata": {},
   "source": [
    "## <span style=\"color:darkgreen\">1. Lý thuyết</span>\n",
    "### <span style=\"color:green\">1.1. Giải thuật Gram-Schmidt</span>\n",
    "- **Bước 1:** Đặt $v_1 = u_1$, nếu $v_1 = 0$ thì họ **không độc lập tuyến tính** và kết thúc.\n",
    "- **Bước 2:** Với $\\forall i \\ge 1$, đặt $v_i = u_i - \\sum^{i-1}_{k=1}\\frac{\\langle u_i, v_k \\rangle}{{\\lVert v_k \\rVert}^2}v_k$. Nếu $v_i=0$ thì họ *không độc lập tuyến tính* và kết thúc.\n",
    "<br>Cứ như vậy, ta đã xây dựng được một họ các *vector trực giao* ${v_1, v_2, . . . , v_n}$.\n",
    "- **Bước 3:** Nếu yêu cầu xây dựng họ các *vector trực chuẩn*, ta tìm các vector trực chuẩn như sau\n",
    "\\begin{align*}\n",
    "q_1 = \\frac{v_1}{\\lVert v_1\\rVert},  q_2 = \\frac{v_2}{\\lVert v_2\\rVert}, \\cdots ,  q_n = \\frac{v_n}{\\lVert v_n\\rVert}\n",
    "\\end{align*}\n",
    "\n",
    "### <span style=\"color:green\">1.2. Phân rã QR sử dụng Gram-Schmidt</span>\n",
    "- **Bước 1:** Xác định $n$ cột của $A = [u_1|u_2| \\cdots |u_n].$\n",
    "- **Bước 2:** Tiến hành trực chuẩn hóa $u_1, u_2, \\cdots , u_n$ sử dụng thuật **Gram-Schmidt** (như trên). Thông báo nếu các cột của A *không độc lập tuyến tính* và kết thúc, ngược lại sẽ nhận được $q_1, q_2, . . . , q_n$ là họ trực chuẩn tương ứng.\n",
    "- **Bước 3:** Xây dựng ma trận $Q = (q_1 | q_2 | \\cdots |q_n)$.\n",
    "- **Bước 4:** Xây dựng ma trận $R \\in M_n$:\n",
    "\\begin{align*}\n",
    "    R = \n",
    "    \\begin{pmatrix}\n",
    "    \\langle q_1,u_1 \\rangle & \\langle q_1,u_2\\rangle & \\cdots & \\langle q_1,u_n\\rangle⟩\\\\\n",
    "    0 & \\langle q_2,u_2\\rangle & \\dots & \\langle q_2,u_n\\rangle\\\\\n",
    "    \\vdots & \\vdots & \\ddots & \\vdots\\\\\n",
    "    0 & 0 & \\cdots & \\langle q_n,u_n\\rangle\n",
    "    \\end{pmatrix}\n",
    "\\end{align*}\n",
    "- **Bước 5:** Kết luận $A=QR$."
   ]
  },
  {
   "cell_type": "markdown",
   "id": "98aa5503",
   "metadata": {},
   "source": [
    "## <span style=\"color:darkgreen\">2. Chương trình (không sử dụng thư viện)</span>\n",
    "### <span style=\"color:green\">2.1. Ý tưởng</span>\n",
    "- **Hàm trực chuẩn hóa Gram-Schmidt**: nhận vào một tập các vector, trả về một tập các vector đã được trực chuẩn hóa.\n",
    "- **Hàm phân rã QR**: nhận vào một ma trận $A$ khả giải, in ra kết quả phân rã QR của $A$, có sử dụng hàm trực chuẩn hóa Gram-Schmidt ở trên.<br>\n",
    "Tuy nhiên, với giải thuật đã học, ta có thể xác định được trường hợp $A$ không phân rã QR được khi có các vector cột *không độc lập tuyến tính*.<br>\n",
    "Cũng dễ hiểu bởi sau khi trực giao hóa, nếu các vector *không độc lập tuyến tính* thì sẽ xuất hiện một $v_i=0$ nào đó, suy ra $\\lVert v_i \\rVert = 0$ Khi đó tới bước trực chuẩn thì $q_i=\\frac{v_i}{\\lVert v_i \\rVert}=\\frac{v_i}{0}$ thì không thể xác định.<br>\n",
    "Vậy nên, em xin kiêm luôn chức năng kiểm tra $A$ có phân rã được hay không, nhờ vào xét tính độc lập hay phụ thuộc tuyến tính của họ các vector $u_i$.\n",
    "- **Hàm hỗ trợ**: vì chương trình không được sử dụng thư viện, nên các vector và ma trận đều được lưu dưới kiểu <code>Python list</code>. Do vậy cần viết thêm một số hàm để trợ giúp việc tính toán và định dạng các vector, ma trận trên kiểu dữ liệu này:\n",
    "    - Hàm in ma trận theo dòng cho đẹp.\n",
    "    - Hàm tính chuẩn vector, kiểm tra vector $0$, tích vô hướng vector, nhân vector với một số, hàm trừ 2 vector, ... hỗ trợ trong các công thức tính của giải thuật.\n",
    "    - Hàm chuyển vị ma trận: việc truy xuất các vector cột $u_i$ từ $A$ (kiểu *Python list*) để tính toán rất lằng nhằng, nên để truy xuất chúng dễ hơn, ta cần tìm chuyển vị là $A^\\top$. Khi đó, nếu ta muốn truy xuất $u_i$, chỉ cần gọi chỉ số hàng thứ $[i]$ thay vì truy xuất cột.\n",
    "- Mã nguồn trình bày gọn gàng, tường minh.\n",
    "- Có chú thích để dễ hiểu.\n",
    "    \n",
    "### <span style=\"color:green\">2.2. Mã nguồn hàm</span>"
   ]
  },
  {
   "cell_type": "code",
   "execution_count": 1,
   "id": "0c233648",
   "metadata": {},
   "outputs": [],
   "source": [
    "# Hàm tính chuẩn vector \n",
    "def norm(v):\n",
    "    return sum(x*x for x in v)**0.5\n",
    "# ----------------------------------------------------------------------------\n",
    "# Hàm kiểm tra vector 0:\n",
    "def isZero(v):\n",
    "    return len(v) > 0 and all(abs(x) < 1e-9 for x in v)\n",
    "# ----------------------------------------------------------------------------\n",
    "# Hàm chuyển vị ma trận:\n",
    "def trans(matrix):\n",
    "    return [[matrix[j][i] for j in range(len(matrix))] for i in range(len(matrix[0]))]\n",
    "# ----------------------------------------------------------------------------\n",
    "# Hàm tích vô hướng 2 vector:\n",
    "def dotProduct(v1, v2):\n",
    "    return sum([v1[i] * v2[i] for i in range(len(v1))])\n",
    "# ----------------------------------------------------------------------------\n",
    "# Hàm nhân vector với một số a:\n",
    "def multi(v, a):\n",
    "    return [a * i for i in v]\n",
    "# ----------------------------------------------------------------------------\n",
    "# Hàm tính vector v1 - v2\n",
    "def sub(v1, v2):\n",
    "    return [v1[i] - v2[i] for i in range(len(v1))]\n",
    "# ----------------------------------------------------------------------------\n",
    "# Hàm in ma trận (có làm tròn đến 'error' chữ số thập phân)\n",
    "def printMatrix(A, error=2):\n",
    "    if not A: \n",
    "        print(\"[]\")\n",
    "    else:\n",
    "        print(\"[\", end=\"\")\n",
    "        for i in range(len(A)):\n",
    "            if i != 0: print(\" \",end=\"\")\n",
    "            print(\"[\",end=\"\")\n",
    "            print(*[round(x, error) for x in A[i]], sep=\"\\t\", end=\"\")\n",
    "            print(\"]\",end=\"\")\n",
    "            if i != len(A)-1: print()\n",
    "        print(\"]\")   \n",
    "# ----------------------------------------------------------------------------\n",
    "# HÀM TRỰC CHUẨN HÓA GRAM-SCHMIDT:\n",
    "def normalize(u):\n",
    "    # Bước trực giao - orthogonalization\n",
    "    v = []\n",
    "    v.append(u[0])\n",
    "    for i in range(1,len(u)):\n",
    "        v_i = u[i]\n",
    "        for j in range(i):\n",
    "            v_i = sub(v_i, multi(v[j], dotProduct(u[i],v[j])/(norm(v[j])**2)))\n",
    "        if isZero(v_i):\n",
    "            return []\n",
    "        v.append(v_i) \n",
    "    # Bước trực chuẩn - normalization\n",
    "    q = []\n",
    "    for i in range(len(v)):\n",
    "        q.append(multi(v[i], 1/norm(v[i])))\n",
    "    return q\n",
    "# ----------------------------------------------------------------------------\n",
    "# HÀM PHÂN RÃ QR:\n",
    "def QRDecomp(A):\n",
    "    if not A:\n",
    "        print(\"=> Cannot QR-decompose!\")\n",
    "        return False, [], []\n",
    "    # Lấy các cột của A lập thành u1, u2, ...\n",
    "    u = trans(A)\n",
    "    # Trực chuẩn hóa u1, u2, ... để có q1, q2, ...\n",
    "    q = normalize(u)\n",
    "    # Nếu các vector cột không độc lập tuyến tính thì kết thúc\n",
    "    if not q: \n",
    "        print(\"=> Cannot QR-decompose!\")\n",
    "        return False, [], []\n",
    "    # Lập ma trận Q:\n",
    "    Q = trans(q)\n",
    "    # Lập ma trận R:\n",
    "    R = [[dotProduct(q[i], u[j]) if j >= i else 0 for j in range(len(u))] for i in range(len(q))]\n",
    "    # In kết quả Q, R khi tìm ra\n",
    "    print(\"Q = \"); printMatrix(Q)\n",
    "    print(\"R = \"); printMatrix(R) \n",
    "    return True, Q, R "
   ]
  },
  {
   "cell_type": "markdown",
   "id": "7401c679",
   "metadata": {},
   "source": [
    "### <span style=\"color:green\">2.4. Giải thích hàm</span>\n",
    "##### Các hàm hỗ trợ:\n",
    "- **<code>norm(v)</code> - tìm chuẩn vector:**\n",
    "    - Input: vector $v$.\n",
    "    - Output: chuẩn của vector đó: $\\lVert v \\rVert = \\sqrt{v_1^2+v_2^+ \\cdots}$.\n",
    "- **<code>isZero(v)</code> - kiểm tra vector $0$:**\n",
    "    - Input: vector $v=(x_1, x_2, \\cdots)$.\n",
    "    - Output: <code>True</code> nếu $v$ là vector $0$, ngược lại <code>False</code>.\n",
    "    - Giải thích: Việc so sánh $x_i=0$ được tương đương với $|x_i|$ đủ gần với $0$ (ở đây chọn là nhỏ hơn $10^{-9}$) để tránh trường hợp sai số trong việc lưu trữ số *float* của máy tính (IEEE-754).<br>\n",
    "    Ví dụ giá trị thực của <code>x</code> là $0$ nhưng bằng một cách nào đó máy tính lưu là $10^{-16}$, nếu ta so sánh <code>x==0</code> sẽ sai.\n",
    "- **<code>trans(matrix)</code> - tìm ma trận chuyển vị:**\n",
    "    - Input: một ma trận <code>matrix</code>.\n",
    "    - Output: ma trận chuyển vị của ma trận trên.\n",
    "    - Giải thích: để lấy ma trận chuyển vị $B=A^\\top=b_{ij}$ của $A=a_{ij}$, ta cho $b_{ij} = a_{ji}$, với $\\forall i,j$ trong $A$.\n",
    "- **<code>dotProduct(v1, v2)</code> - tích vô hướng:**\n",
    "    - Input: hai vector *cùng kích thước* $v_1=(x_1, x_2, \\cdots)$ và $v_2=(x'_1,x'_2,\\cdots)$.\n",
    "    - Output: tích vô hướng 2 vector trên: $\\langle v_1, v_2 \\rangle = x_1 x'_1 + x_2 x'_2 + \\cdots$\n",
    "- **<code>multi(v, a)</code> - nhân vector với một số:**\n",
    "    - Input: vector $v=(x_1,x_2,\\cdots)$ và số $a \\in \\mathbb{R}$.\n",
    "    - Output: vector kết quả của phép nhân $a v=(a x_1, a x_2, \\cdots)$.\n",
    "- **<code>sub(v1, v2)</code> - phép trừ 2 vector:**\n",
    "    - Input: hai vector *cùng kích thước* $v_1$ và $v_2$.\n",
    "    - Output: vector kết quả của $v_1-v_2=(x_1-x'_1,x_2-x'_2,\\cdots)$\n",
    "- **<code>printMatrix(A, error=2)</code> - hỗ trợ in ma trận theo format đẹp:**\n",
    "    - Input: ma trận $A$ được lưu dưới kiểu *Python list* và sai số *error* có giá trị mặc định là $2$.\n",
    "    - Output: in ra ma trận $A$ theo format đẹp, các số hạng trong ma trận được làm tròn về *error* chữ số sau phần thập phân.\n",
    "    - Giải thích: vì đề bài yêu cầu in ma trận $Q$ và $R$, mà $2$ ma trận đó thường tạo bởi các số hạng là các số thực hữu tỉ hoặc vô tỉ (phân số, căn thức), cộng với được lưu dưới kiểu *Python list* nên khi in ra bởi hàm <code>print()</code> sẽ không được đẹp. Do vậy, nhằm giúp kết quả dễ đọc, dễ đối chiếu, em viết thêm hàm để in ma trận $Q$ và $R$, dù sao nó cũng là yêu cầu chính của đề bài.\n",
    "    \n",
    "##### Các hàm trọng tâm giải thuật:\n",
    "- **<code>normalize(u)</code> - trực chuẩn hóa Gram-Schmidt:**\n",
    "    - Input: một ma trận $u$ chứa các hàng là các vector $u_1$, $u_2$, $\\cdots$\n",
    "    - Output: một ma trận $q$ chứa các hàng là các vector $q_1$, $q_2$, $\\cdots$ là họ vector trực chuẩn từ các vector trên.\n",
    "    - Giải thích:\n",
    "        - Sử dụng đầu vào là ma trận $u$ chứa các vector $u_i$ theo hàng là vì truy xuất vector từ ma trận theo hàng rất dễ: <code>u[i]</code>.\n",
    "        - Giải thích phần trực giao:\n",
    "            - Tạo một ma trận $v$ để chứa các dòng là các vector $v_i$: họ vector trực giao.\n",
    "            - $v_1$ (hay <code>v[0]</code>) sẽ tính được ngay từ $u_1$ (hay <code>u[0]</code>).\n",
    "            - Tạo một vòng lặp để tính các $v_i$ còn lại, dựa vào công thức của giải thuật Gram-Schmidt:\n",
    "            $v_i = u_i - \\sum^{i-1}_{k=1}\\frac{\\langle u_i, v_k \\rangle}{{\\lVert v_k \\rVert}^2}v_k$.\n",
    "            - Đầu tiên cho $v_i=u_i$. Sau đó tạo tiếp một vòng lặp để trừ dần đi các giá trị $\\frac{\\langle u_i, v_k \\rangle}{{\\lVert v_k \\rVert}^2}v_k$. Việc tính toán sử dụng các hàm hỗ trợ ở trên.\n",
    "            - Sau khi trừ, theo giải thuật đã học, nếu $v_i=0$ thì kết luận *không độc lập tuyến tính* và kết thúc, trả về $q$ là một vector rỗng để có thể kiểm tra sau này.\n",
    "            - Cứ như vậy, cuối cùng, ta sẽ có một ma trận $v$ chứa các dòng là các vector $v_i$ là họ vector trực giao.\n",
    "        - Giải thích phần trực chuẩn:\n",
    "            - Tạo một ma trận $q$ để chứa các dòng là các vector $q_i$: họ vector trực chuẩn.\n",
    "            - Cứ lần lượt thêm các vector trực chuẩn $q_i$ vào $q$, với $q_i = \\frac{v_i}{\\lVert v_i\\rVert}$, có sử dụng các hàm hỗ trợ ở trên nếu cần.\n",
    "            - Cuối cùng trả về $q$ - ma trận chứa các dòng là các vector trong họ vector trực chuẩn.\n",
    "- **<code>QRDecomp(A)</code> - phân rã QR sử dụng Gram-Schmidt:**\n",
    "    - Input: ma trận $A$. Nếu theo đề bài thì $A$ *khả giải* (có thể phân rã QR), tuy nhiên ở đây em sẽ kiểm tra luôn phần $A$ có *khả giải* hay không.\n",
    "    - Output:\n",
    "        - <code>True</code>, ma trận $Q$, ma trận $R$: nếu phân rã $A=QR$ thành công.\n",
    "        - <code>False</code>, ma trận rỗng, ma trận rỗng: nếu $A$ không *khả giải* - tức các vector cột của $A$ *không độc lập tuyến tính* dẫn đến không thể trực chuẩn Gram-Schmidt.\n",
    "    - Giải thích:\n",
    "        - Đầu tiên kiểm tra $A$ có rỗng hay không, nếu có thì $A$ không thể phân rã QR, kết luận và kết thúc.\n",
    "        - Lập ma trận $u$ có các hàng chứa các vector cột của $A$ $\\Rightarrow$ đơn giản: $u=A^\\top$.\n",
    "        - Gọi hàm <code>normalize(u)</code> để trực chuẩn hóa Gram-Schmidt rồi gán vào $q$, chứa các hàng là các vector $q_i$ là họ vector trực chuẩn.\n",
    "        - Kiểm tra ma trận $q$ nếu là ma trận rỗng, thì có nghĩa $A$ không thể phân rã QR, kết luận và kết thúc.\n",
    "        - Lập ma trận $Q=(q_1|q_2|\\cdots)=q^\\top$.\n",
    "        - Ta có:\n",
    "        \\begin{align*}\n",
    "            R = \n",
    "            \\begin{pmatrix}\n",
    "            \\langle q_1,u_1 \\rangle & \\langle q_1,u_2\\rangle & \\cdots & \\langle q_1,u_n\\rangle⟩\\\\\n",
    "            0 & \\langle q_2,u_2\\rangle & \\dots & \\langle q_2,u_n\\rangle\\\\\n",
    "            \\vdots & \\vdots & \\ddots & \\vdots\\\\\n",
    "            0 & 0 & \\cdots & \\langle q_n,u_n\\rangle\n",
    "            \\end{pmatrix}\n",
    "        \\end{align*}\n",
    "        Lập ma trận vuông $R$ bằng cách:\n",
    "            - Tạo một vòng lặp nhét từng hàng vào ma trận.\n",
    "            - Trong vòng lặp trên, nhét từng phần tử vào hàng. Phần tử hàng sẽ nhận $2$ giá trị là $0$ nếu nằm dưới đường chéo chính, hoặc là $\\langle q_i,u_j \\rangle$ nếu nằm trên đường chéo chính.\n",
    "        - Sau khi tìm được $Q$ và $R$, in chúng ra theo format dễ nhìn với hàm tự viết ở trên, rồi trả về và kết thúc hàm."
   ]
  },
  {
   "cell_type": "markdown",
   "id": "c7cb9e7e",
   "metadata": {},
   "source": [
    "### <span style=\"color:green\">2.3. Kết quả chạy</span>"
   ]
  },
  {
   "cell_type": "markdown",
   "id": "9046aba1",
   "metadata": {},
   "source": [
    "**<u>Trường hợp không phân rã được</u>**:"
   ]
  },
  {
   "cell_type": "code",
   "execution_count": 2,
   "id": "b455385f",
   "metadata": {
    "scrolled": true
   },
   "outputs": [
    {
     "name": "stdout",
     "output_type": "stream",
     "text": [
      "A = \n",
      "[[1\t1\t0]\n",
      " [1\t1\t1]\n",
      " [2\t2\t2]]\n",
      "=> Cannot QR-decompose!\n"
     ]
    }
   ],
   "source": [
    "# Hàm main\n",
    "A = [[1,1,0],[1,1,1],[2,2,2]]\n",
    "print(\"A = \"); printMatrix(A)\n",
    "res, Q, R = QRDecomp(A)   "
   ]
  },
  {
   "cell_type": "markdown",
   "id": "24a10a0a",
   "metadata": {},
   "source": [
    "**<u>Trường hợp phân rã được</u>**:"
   ]
  },
  {
   "cell_type": "code",
   "execution_count": 3,
   "id": "352676e5",
   "metadata": {
    "scrolled": true
   },
   "outputs": [
    {
     "name": "stdout",
     "output_type": "stream",
     "text": [
      "A = \n",
      "[[1\t1\t0]\n",
      " [-1\t0\t1]\n",
      " [0\t1\t1]\n",
      " [1\t-1\t0]]\n",
      "Q = \n",
      "[[0.58\t0.58\t0.0]\n",
      " [-0.58\t0.0\t0.58]\n",
      " [0.0\t0.58\t0.58]\n",
      " [0.58\t-0.58\t0.58]]\n",
      "R = \n",
      "[[1.73\t0.0\t-0.58]\n",
      " [0\t1.73\t0.58]\n",
      " [0\t0\t1.15]]\n"
     ]
    }
   ],
   "source": [
    "A = [[1,1,0],[-1,0,1],[0,1,1],[1,-1,0]]\n",
    "print(\"A = \"); printMatrix(A)\n",
    "res, Q, R = QRDecomp(A)"
   ]
  },
  {
   "cell_type": "markdown",
   "id": "1fcb997e",
   "metadata": {},
   "source": [
    "## <span style=\"color:green\">3. Sử dụng thư viện</span>\n",
    "Để phân rã QR, có rất nhiều giải thuật khác nhau đưa ra nhiều kết quả phân rã khác nhau.<br>\n",
    "Tuy nhiên, em đã lựa chọn hàm <code>Matrix.QRdecomposition()</code> của thư viện <code>sympy</code> vì nó sử dụng giải thuật **Gram-Schmidt** để phân rã QR, tương ứng với phạm vi kiến thức môn học.<br>\n",
    "**<u>Nhưng có một điều cần lưu ý</u>**: với ma trận $A$ có các vector cột <span style=\"color:red\">KHÔNG</span> *độc lập tuyến tính*, hàm thư viện trên vẫn tìm được $A=QR$. Ví dụ:"
   ]
  },
  {
   "cell_type": "code",
   "execution_count": 4,
   "id": "06f86c29",
   "metadata": {},
   "outputs": [
    {
     "name": "stdout",
     "output_type": "stream",
     "text": [
      "\n",
      "⎡1⎤\n",
      "⎢ ⎥\n",
      "⎢0⎥\n",
      "⎢ ⎥\n",
      "⎣0⎦\n",
      "[1  0  0]\n",
      "=> A = QR:  True\n"
     ]
    }
   ],
   "source": [
    "from sympy import Matrix, shape, pprint\n",
    "\n",
    "A = Matrix([[1,0,0],[0,0,0],[0,0,0]]) # Ma trận có cột u2 = 0*u1 + 1*u3 => Các vector KHÔNG độc lập tuyến tính\n",
    "Q, R = A.QRdecomposition()            # Phân rã QR với hàm thư viện\n",
    "\n",
    "print()\n",
    "pprint(Q)                             # In ra ma trận Q\n",
    "pprint(R)                             # In ra ma trận R\n",
    "print(\"=> A = QR: \", A==Q*R)          # Kiểm tra A=QR hay không => Kết quả vẫn đúng"
   ]
  },
  {
   "cell_type": "markdown",
   "id": "3b1f454a",
   "metadata": {},
   "source": [
    "><span style=\"color:red\">$\\Rightarrow$ Điều này khác với giải thuật **Gram-Schmidt** đã học:</span>\n",
    ">- Đáng ra ta không thể phân rã QR vì các vector cột *không độc lập tuyến tính*.\n",
    ">- $Q$ đáng ra là ma trận chứa các vector trực chuẩn và $R$ đáng ra là một ma trận vuông tam giác trên, nhưng kết quả hàm thư viện lại trả về cho thấy không phải.\n",
    "\n",
    ">Sau khi bỏ chút thời gian tìm hiểu thì em nhận ra phép phân ra QR có thể được mở rộng và áp dụng cho mọi ma trận $A$. Tuy nhiên, để cho thống nhất, em đã thêm lệnh kiểm tra các cột có độc lập tuyến tính không trước khi sử dụng hàm thư viện. Nếu các cột không độc lập tuyến tính thì ta quy ước $A$ *không thể phân rã QR*.<br>\n",
    "\n",
    "### <span style=\"color:green\">3.1. Mã nguồn</span>"
   ]
  },
  {
   "cell_type": "code",
   "execution_count": 5,
   "id": "65d45834",
   "metadata": {
    "scrolled": false
   },
   "outputs": [],
   "source": [
    "from sympy import Matrix, shape, pprint\n",
    "\n",
    "def QRDecompUsingSympy(A):\n",
    "    if A.rank() != shape(A)[1]:\n",
    "        print(\"Cannot QR-decomposed!\")\n",
    "    else:\n",
    "        Q, R = A.QRdecomposition()\n",
    "        print(\"Q = \\n\"); pprint(Q)\n",
    "        print(\"R = \\n\"); pprint(R)"
   ]
  },
  {
   "cell_type": "markdown",
   "id": "a38c0665",
   "metadata": {},
   "source": [
    "**<u>Giải thích hàm</u>**:\n",
    ">- <code>QRDecompUsingSympy(A)</code>:\n",
    "    - Input: Ma trận $A$.\n",
    "    - Output: Phân rã $A$ thành $Q$ và $R$. In ra $Q$ và $R$ nếu thành công, ngược lại thông báo *không thể phân rã QR*.\n",
    "    - Chi tiết:\n",
    "        - Điều kiện $A$ có thể phân rã QR: hạng của $A$ bằng với số cột (số vector cột). Khi đó, sẽ không tồn tại vector cột nào là tổ hợp tuyến tính của các vector cột còn lại.\n",
    "        - Hàm <code>shape(A)</code>: trả về chiều của ma trận $A$.\n",
    "        - Hàm <code>pprint()</code>: in một đối tượng <code>sympy.Matrix</code> theo format đẹp.\n",
    "\n",
    "### <span style=\"color:green\">3.2. Kết quả chương trình</span>"
   ]
  },
  {
   "cell_type": "markdown",
   "id": "f6b7859d",
   "metadata": {},
   "source": [
    "#### <u>Trường hợp không thể phân rã QR</u>:"
   ]
  },
  {
   "cell_type": "code",
   "execution_count": 6,
   "id": "94e0e3a6",
   "metadata": {
    "scrolled": true
   },
   "outputs": [
    {
     "name": "stdout",
     "output_type": "stream",
     "text": [
      "Cannot QR-decomposed!\n"
     ]
    }
   ],
   "source": [
    "A = Matrix([[1,1,0],[1,1,1],[2,2,2]])\n",
    "QRDecompUsingSympy(A)"
   ]
  },
  {
   "cell_type": "markdown",
   "id": "8e0146fb",
   "metadata": {},
   "source": [
    "#### <u>Trường hợp có thể phân rã QR</u>"
   ]
  },
  {
   "cell_type": "code",
   "execution_count": 7,
   "id": "56508e9f",
   "metadata": {},
   "outputs": [
    {
     "name": "stdout",
     "output_type": "stream",
     "text": [
      "Q = \n",
      "\n",
      "⎡ √3    √3     ⎤\n",
      "⎢ ──    ──   0 ⎥\n",
      "⎢ 3     3      ⎥\n",
      "⎢              ⎥\n",
      "⎢-√3         √3⎥\n",
      "⎢────   0    ──⎥\n",
      "⎢ 3          3 ⎥\n",
      "⎢              ⎥\n",
      "⎢       √3   √3⎥\n",
      "⎢ 0     ──   ──⎥\n",
      "⎢       3    3 ⎥\n",
      "⎢              ⎥\n",
      "⎢ √3   -√3   √3⎥\n",
      "⎢ ──   ────  ──⎥\n",
      "⎣ 3     3    3 ⎦\n",
      "R = \n",
      "\n",
      "⎡        -√3 ⎤\n",
      "⎢√3  0   ────⎥\n",
      "⎢         3  ⎥\n",
      "⎢            ⎥\n",
      "⎢         √3 ⎥\n",
      "⎢0   √3   ── ⎥\n",
      "⎢         3  ⎥\n",
      "⎢            ⎥\n",
      "⎢        2⋅√3⎥\n",
      "⎢0   0   ────⎥\n",
      "⎣         3  ⎦\n"
     ]
    }
   ],
   "source": [
    "B = Matrix([[1,1,0],[-1,0,1],[0,1,1],[1,-1,0]])\n",
    "QRDecompUsingSympy(B)"
   ]
  },
  {
   "cell_type": "markdown",
   "id": "d48a5f45",
   "metadata": {},
   "source": [
    "**<span style=\"color:red\">$\\Rightarrow$ Kết quả Q, R của test-case này trùng với hàm <code>QRDecomp()</code> tự viết.</span>**<br>\n",
    "Tuy nhiên, với hàm thư viện, ma trận được format rất kĩ (giữ lại căn thức, phân số, ...) và tính toán không có sai số do *float* (IEEE-754), vậy nên chính xác và dễ nhìn hơn."
   ]
  },
  {
   "cell_type": "markdown",
   "id": "68e9ffe8",
   "metadata": {},
   "source": [
    "## <span style=\"color:darkgreen\">4. Ứng dụng của phân rã QR</span>\n",
    "\n",
    "#### 4.1. <span style=\"color:green\">Giải hệ phương trình tuyến tính</span>\n",
    "Ta có hệ phương trình tuyến tính được chuyển thành dạng ma trận như sau:\n",
    "$$\n",
    "\\begin{pmatrix}\n",
    "a_{11} & a_{12} & \\cdots & a_{1n} \\\\\n",
    "a_{21} & a_{22} & \\cdots & a_{2n} \\\\\n",
    "\\vdots & \\vdots & \\ddots & \\vdots \\\\\n",
    "a_{m1} & a_{m2} & \\cdots & a_{mn}\n",
    "\\end{pmatrix}\n",
    "\\begin{pmatrix}\n",
    "x_1 \\\\\n",
    "x_2 \\\\\n",
    "\\vdots \\\\\n",
    "x_n\n",
    "\\end{pmatrix}\n",
    "=\n",
    "\\begin{pmatrix}\n",
    "b_1 \\\\\n",
    "b_2 \\\\\n",
    "\\vdots \\\\\n",
    "b_m\n",
    "\\end{pmatrix}\n",
    "\\Leftrightarrow A X = b\n",
    "$$\n",
    "Phân rã $A=Q R$ rồi thế vào phương trình trên:\n",
    "$$\n",
    "A X = b \\Leftrightarrow Q R X = b \\Leftrightarrow R X = Q^{-1} b \\Leftrightarrow R X = Q^\\top b\n",
    "$$\n",
    "Vì $Q$ là ma trận trực giao nên $Q^{-1} = Q^\\top$.<br>\n",
    "Vì $R$ là ma trận tam giác trên nên ta có thể dễ dàng suy ra $X$ nhờ phương pháp thế ngược (back-substitution).\n",
    "\n",
    "####  <span style=\"color:green\">4.2. Tìm định thức của ma trận</span>\n",
    "Ta có:\n",
    "$$\n",
    "A = Q R \\Leftrightarrow |A|=|Q R| = |Q||R|\n",
    "$$\n",
    "- Vì $Q$ là một ma trận có các cột là vector trực chuẩn nên $|Q| = 1$ nếu có số lượng dòng là chẵn, hoặc $|Q|=-1$ nếu có số lượng dòng là lẻ.\n",
    "- Vì $R$ là một ma trận tam giác trên nên $|R|$ bằng tích các phần tử đường chéo $\\lambda_i$.\n",
    "$$\n",
    "\\Rightarrow\n",
    "\\begin{cases}\n",
    "|A| = \\prod\\limits_{i=1}^{n} \\lambda_i & \\text{nếu ma trận Q có số lượng dòng chẵn} \\\\\n",
    "|A| = -\\prod\\limits_{i=1}^{n} \\lambda_i & \\text{nếu ma trận Q có số lượng dòng lẻ}\n",
    "\\end{cases}\n",
    "$$\n",
    "Trong đó, $\\lambda_i$ là các phần tử đường chéo của $R$ và $n$ là kích thước của $R$.\n",
    "\n",
    "####  <span style=\"color:green\">4.3. Tìm nghịch đảo của ma trận</span>\n",
    "Ta có:\n",
    "$$\n",
    "A = Q R \\Leftrightarrow A^{-1}=(Q R)^{-1} = R^{-1}Q^{-1} = R^{-1}Q^\\top\n",
    "$$\n",
    "Vì $Q$ là ma trận trực giao nên $Q^{-1} = Q^\\top$.<br>\n",
    "Vì $R$ là ma trận tam giác trên nên ta có thể dễ dàng suy ra $R^{-1}$ bằng cách ghép ma trận $(R|I_n)$ và thuật giải Gauss-Jordan. \n",
    "\n",
    "#####  <span style=\"color:green\">4.4. Ngoài ra, còn có một số ứng dụng khác của phân tích QR như sau:</span>\n",
    "- Least square: phân rã QR được sử dụng để giải quyết bài toán least square, tức là tìm ra nghiệm x của hệ phương trình $Ax = b$ sao cho tổng bình phương sai số (sum of squared errors) là nhỏ nhất.\n",
    "- Tính giá trị riêng và vector riêng: phân rã QR được sử dụng để tính giá trị riêng và vector riêng của ma trận vuông A. Cụ thể, ta có thể sử dụng phân rã QR để biến đổi ma trận A thành một ma trận R tam giác trên và sau đó tính giá trị riêng của ma trận R.\n",
    "- Ứng dụng trong học máy (machine learning): Phân rã QR được sử dụng trong các thuật toán học máy như phân tích thành phần chính (PCA), trực quan hóa ma trận và giảm số chiều dữ liệu.\n",
    "- Xử lý tín hiệu số: phân rã QR được sử dụng để xử lý tín hiệu số trong các hệ thống điện tử, viễn thông, xử lý ảnh và âm thanh, và các lĩnh vực khác.\n",
    "- Tối ưu hoá: phân rã QR được sử dụng trong các bài toán tối ưu hoá, như tối ưu đa mục tiêu và tối ưu lồi."
   ]
  }
 ],
 "metadata": {
  "kernelspec": {
   "display_name": "Python 3 (ipykernel)",
   "language": "python",
   "name": "python3"
  },
  "language_info": {
   "codemirror_mode": {
    "name": "ipython",
    "version": 3
   },
   "file_extension": ".py",
   "mimetype": "text/x-python",
   "name": "python",
   "nbconvert_exporter": "python",
   "pygments_lexer": "ipython3",
   "version": "3.9.13"
  }
 },
 "nbformat": 4,
 "nbformat_minor": 5
}
